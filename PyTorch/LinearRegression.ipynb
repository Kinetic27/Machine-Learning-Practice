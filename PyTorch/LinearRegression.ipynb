{
  "nbformat": 4,
  "nbformat_minor": 0,
  "metadata": {
    "colab": {
      "name": "PyTorch LinearRegression.ipynb",
      "provenance": [],
      "collapsed_sections": [],
      "toc_visible": true,
      "include_colab_link": true
    },
    "kernelspec": {
      "name": "python3",
      "display_name": "Python 3"
    },
    "language_info": {
      "name": "python"
    },
    "accelerator": "GPU"
  },
  "cells": [
    {
      "cell_type": "markdown",
      "metadata": {
        "id": "view-in-github",
        "colab_type": "text"
      },
      "source": [
        "<a href=\"https://colab.research.google.com/github/Kinetic27/Machine-Learning-Practice/blob/main/PyTorch/LinearRegression.ipynb\" target=\"_parent\"><img src=\"https://colab.research.google.com/assets/colab-badge.svg\" alt=\"Open In Colab\"/></a>"
      ]
    },
    {
      "cell_type": "markdown",
      "source": [
        "# Import Library"
      ],
      "metadata": {
        "id": "uWy84U9JVPaO"
      }
    },
    {
      "cell_type": "code",
      "source": [
        "import torch\n",
        "from torch import nn\n",
        "from torch import optim\n",
        "from torch.autograd import Variable\n",
        "import numpy as np\n",
        "from matplotlib import pyplot as plt"
      ],
      "metadata": {
        "id": "73ZPcUpDVp0K"
      },
      "execution_count": null,
      "outputs": []
    },
    {
      "cell_type": "markdown",
      "source": [
        "# Setting Data"
      ],
      "metadata": {
        "id": "dGVied6RW-9n"
      }
    },
    {
      "cell_type": "markdown",
      "source": [
        "## Make Sample Data"
      ],
      "metadata": {
        "id": "tlpLG-HpVzPe"
      }
    },
    {
      "cell_type": "code",
      "source": [
        "x = np.random.normal(0.0, 0.55, (10000, 1))\n",
        "y = x * 0.1 + 0.3 + np.random.normal(0.0, 0.03, (10000,1))\n",
        "                     \n",
        "plt.plot(x, y, 'r.')\n",
        "plt.show()"
      ],
      "metadata": {
        "colab": {
          "base_uri": "https://localhost:8080/",
          "height": 265
        },
        "id": "vuPJoKziV-bQ",
        "outputId": "9f2aba8d-431a-4da9-ff15-2a4ca213b6ab"
      },
      "execution_count": null,
      "outputs": [
        {
          "output_type": "display_data",
          "data": {
            "image/png": "[encoded data removed]",
            "text/plain": [
              "<Figure size 432x288 with 1 Axes>"
            ]
          },
          "metadata": {
            "needs_background": "light"
          }
        }
      ]
    },
    {
      "cell_type": "markdown",
      "source": [
        "## Set Parameter"
      ],
      "metadata": {
        "id": "2XMYIFM1WuvX"
      }
    },
    {
      "cell_type": "code",
      "source": [
        "x_data = Variable(torch.Tensor(x))\n",
        "y_data = Variable(torch.Tensor(y))"
      ],
      "metadata": {
        "id": "jDwjvn-xWNlb"
      },
      "execution_count": null,
      "outputs": []
    },
    {
      "cell_type": "markdown",
      "source": [
        "## Model"
      ],
      "metadata": {
        "id": "YShQa1PFW0qx"
      }
    },
    {
      "cell_type": "code",
      "source": [
        "class Model(nn.Module):\n",
        "    def __init__(self):\n",
        "        super(Model, self).__init__()\n",
        "        self.linear = nn.Linear(1,1)\n",
        "\n",
        "    def forward(self, X):\n",
        "        X = self.linear(X)\n",
        "        return X"
      ],
      "metadata": {
        "id": "zbuHAZ6oWPGS"
      },
      "execution_count": null,
      "outputs": []
    },
    {
      "cell_type": "markdown",
      "source": [
        "# Trainning"
      ],
      "metadata": {
        "id": "ZS6JvJrPW8Bz"
      }
    },
    {
      "cell_type": "code",
      "source": [
        "model = Model()\n",
        "criterion  = nn.MSELoss()\n",
        "optimizer = optim.SGD(model.parameters(), lr=0.05)"
      ],
      "metadata": {
        "id": "GRdyBllMWVEa"
      },
      "execution_count": null,
      "outputs": []
    },
    {
      "cell_type": "code",
      "source": [
        "# Training loop\n",
        "for epoch in range(500):\n",
        "    y_pred = model.forward(x_data)\n",
        "\n",
        "    loss = criterion(y_pred, y_data)\n",
        "    \n",
        "    \n",
        "    if epoch ==0 :\n",
        "        print(\"Epoch : \", epoch+1, \" Loss : \", loss.data.numpy())\n",
        "        #y_dis = model.forward(x_data).data.numpy()\n",
        "        #plt.plot(x, y, 'r.')\n",
        "        #plt.plot(x, y_dis, 'b.')\n",
        "        #plt.show()\n",
        "        \n",
        "    elif (epoch+1) % 100 == 0 :\n",
        "        print(\"Epoch : \", epoch+1, \" Loss : \", loss.data.numpy())\n",
        "        #y_dis = model.forward(x_data).data.numpy()\n",
        "        #plt.plot(x, y, 'r.')\n",
        "        #plt.plot(x, y_dis, 'b.')\n",
        "        #plt.show()\n",
        "        \n",
        "    # Zero gradients, perform a backward pass, and update the weights.\n",
        "    optimizer.zero_grad()\n",
        "    loss.backward()\n",
        "    optimizer.step()"
      ],
      "metadata": {
        "colab": {
          "base_uri": "https://localhost:8080/"
        },
        "id": "UQc_yex9VPPS",
        "outputId": "4c25c4e2-3e76-4385-fb5f-7cddb8630ade"
      },
      "execution_count": null,
      "outputs": [
        {
          "output_type": "stream",
          "name": "stdout",
          "text": [
            "Epoch :  1  Loss :  0.42375278\n",
            "Epoch :  100  Loss :  0.0013738817\n",
            "Epoch :  200  Loss :  0.00089281786\n",
            "Epoch :  300  Loss :  0.0008918213\n",
            "Epoch :  400  Loss :  0.0008918193\n",
            "Epoch :  500  Loss :  0.0008918193\n"
          ]
        }
      ]
    },
    {
      "cell_type": "markdown",
      "source": [
        "# Check Model"
      ],
      "metadata": {
        "id": "V_XejNGhXG2F"
      }
    },
    {
      "cell_type": "code",
      "source": [
        "# After Training, check parameters\n",
        "param = list(model.parameters())\n",
        "print(len(param))\n",
        "print(param[0].data.numpy())\n",
        "print(param[1].data.numpy())"
      ],
      "metadata": {
        "colab": {
          "base_uri": "https://localhost:8080/"
        },
        "id": "EE_9VDrOWXPL",
        "outputId": "26b2e4db-a791-4570-a4af-9f75acf39c72"
      },
      "execution_count": null,
      "outputs": [
        {
          "output_type": "stream",
          "name": "stdout",
          "text": [
            "2\n",
            "[[0.10017607]]\n",
            "[0.29997072]\n"
          ]
        }
      ]
    }
  ]
}