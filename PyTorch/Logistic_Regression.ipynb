{
  "nbformat": 4,
  "nbformat_minor": 0,
  "metadata": {
    "colab": {
      "name": "Untitled34.ipynb",
      "provenance": [],
      "authorship_tag": "ABX9TyNvLe7pglK78Ciec4Q5iuRG",
      "include_colab_link": true
    },
    "kernelspec": {
      "name": "python3",
      "display_name": "Python 3"
    },
    "language_info": {
      "name": "python"
    },
    "accelerator": "GPU"
  },
  "cells": [
    {
      "cell_type": "markdown",
      "metadata": {
        "id": "view-in-github",
        "colab_type": "text"
      },
      "source": [
        "<a href=\"https://colab.research.google.com/github/Kinetic27/Machine-Learning-Practice/blob/main/PyTorch/Logistic_Regression.ipynb\" target=\"_parent\"><img src=\"https://colab.research.google.com/assets/colab-badge.svg\" alt=\"Open In Colab\"/></a>"
      ]
    },
    {
      "cell_type": "code",
      "source": [
        "import torch\n",
        "from torch import nn\n",
        "from torch import optim\n",
        "from torch.nn import functional as F\n",
        "from torch.utils.data import DataLoader\n",
        "\n",
        "from torchvision import datasets\n",
        "from torchvision import transforms\n",
        "\n",
        "import os\n",
        "import numpy as np\n",
        "from matplotlib import pyplot as plt"
      ],
      "metadata": {
        "id": "2iCHoBaoZ0jt"
      },
      "execution_count": 2,
      "outputs": []
    },
    {
      "cell_type": "code",
      "execution_count": null,
      "metadata": {
        "id": "adS5ygyUY9wt"
      },
      "outputs": [],
      "source": [
        "def find_data_dir():\n",
        "    data_path = 'data'\n",
        "    while os.path.exists(data_path) != True:\n",
        "        data_path = '../' + data_path\n",
        "        \n",
        "    return data_path\n",
        "\n",
        "# MNIST dataset\n",
        "mnist_train = datasets.MNIST(root=find_data_dir(),\n",
        "                          train=True,\n",
        "                          transform=transforms.ToTensor(),\n",
        "                          download=True)\n",
        "print(\"Downloading Train Data Done ! \")\n",
        "\n",
        "mnist_test = datasets.MNIST(root=find_data_dir(),\n",
        "                         train=False,\n",
        "                         transform=transforms.ToTensor(),\n",
        "                         download=True)\n",
        "print(\"Downloading Test Data Done ! \")\n",
        "\n",
        "device = torch.device('cuda' if torch.cuda.is_available() else 'cpu')\n",
        "\n",
        "# our model\n",
        "class Model(nn.Module):\n",
        "    def __init__(self):\n",
        "        super(Model, self).__init__()\n",
        "        self.linear = nn.Linear(784,10)\n",
        "\n",
        "    def forward(self, X):\n",
        "        X = self.linear(X)\n",
        "        X = torch.nn.Threshold(0, 0)(X)\n",
        "        return X\n",
        "\n",
        "model = Model().to(device)\n",
        "\n",
        "criterion  = nn.CrossEntropyLoss()\n",
        "optimizer = optim.SGD(model.parameters(), lr=0.01)\n",
        "\n",
        "batch_size = 100\n",
        "\n",
        "data_iter = DataLoader(mnist_train, batch_size=100, shuffle=True, num_workers=1)\n",
        "\n",
        "for epoch in range(10):\n",
        "    avg_loss = 0\n",
        "    total_batch = len(mnist_train)//batch_size\n",
        "    for i, (batch_img, batch_lab) in enumerate(data_iter):\n",
        "        X = batch_img.view(-1, 28*28).to(device)\n",
        "        Y = batch_lab.to(device)\n",
        "        y_pred = model.forward(X)\n",
        "        loss = criterion(y_pred, Y)\n",
        "        # Zero gradients, perform a backward pass, and update the weights.\n",
        "\n",
        "        optimizer.zero_grad()\n",
        "        loss.backward()\n",
        "        optimizer.step()\n",
        "        avg_loss += loss\n",
        "        if (i+1)%100 == 0 :\n",
        "            print(\"Epoch : \", epoch+1, \"Iteration : \", i+1, \" Loss : \", avg_loss.data.cpu().numpy()/(i+1))\n",
        "    print(\"Epoch : \", epoch+1, \" Loss : \", avg_loss.data.cpu().numpy()/(i+1))\n",
        "print(\"Training Done !\")\n",
        "\n",
        "# Evaluation\n",
        "test_img = mnist_test.test_data.view(-1, 28*28).to(device)\n",
        "test_lab = mnist_test.test_labels.to(device)\n",
        "outputs = model.forward(test_img)\n",
        "pred_val, pred_idx = torch.max(outputs.data, 1)\n",
        "correct = (pred_idx == test_lab).sum()\n",
        "print('Accuracy : ', correct.data.cpu().numpy()/len(test_img)*100)\n",
        "\n",
        "# Testing\n",
        "r = np.random.randint(0, len(mnist_test)-1)\n",
        "X_single_data = mnist_test.test_data[r:r + 1].view(-1,28*28).float().to(device)\n",
        "Y_single_data = mnist_test.test_labels[r:r + 1].to(device)\n",
        "\n",
        "single_prediction = model(X_single_data)\n",
        "plt.imshow(X_single_data.data.view(28,28).cpu().numpy(), cmap='gray')\n",
        "plt.title(\"Label : {}, Prediction : {}\".format(Y_single_data.data.cpu().view(1).numpy(), torch.max(single_prediction.data, 1)[1].numpy()))\n",
        "plt.show()"
      ]
    }
  ]
}